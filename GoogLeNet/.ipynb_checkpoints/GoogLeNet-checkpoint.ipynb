{
 "cells": [
  {
   "cell_type": "markdown",
   "id": "16ff96c3",
   "metadata": {},
   "source": [
    "## Inception \n",
    "![](./imgs/inception.svg)"
   ]
  },
  {
   "cell_type": "code",
   "execution_count": 5,
   "id": "c7a2db1e",
   "metadata": {},
   "outputs": [],
   "source": [
    "from torch import nn\n",
    "from torch.nn import functional as F\n",
    "import torch\n",
    "class Inception(nn.Module):\n",
    "    def __init__(self,in_channels,out_channels):\n",
    "        super().__init__()\n",
    "        self.net_0=nn.Sequential(\n",
    "            nn.Conv2d(in_channels,out_channels[0],kernel_size=1),\n",
    "            nn.ReLU()\n",
    "        )\n",
    "        self.net_1=nn.Sequential(\n",
    "            nn.Conv2d(in_channels,out_channels[1][0],kernel_size=1),\n",
    "            nn.ReLU(),\n",
    "            nn.Conv2d(out_channels[1][0],out_channels[1][1],kernel_size=3,padding=1),\n",
    "            nn.ReLU(),\n",
    "        )\n",
    "        self.net_2=nn.Sequential(\n",
    "            nn.Conv2d(in_channels,out_channels[2][0],kernel_size=1),\n",
    "            nn.ReLU(),\n",
    "            nn.Conv2d(out_channels[2][0],out_channels[2][1],kernel_size=5,padding=2),\n",
    "            nn.ReLU(),\n",
    "        )\n",
    "        self.net_3=nn.Sequential(\n",
    "            nn.MaxPool2d(kernel_size=3,padding=1,stride=1),\n",
    "            nn.Conv2d(in_channels,out_channels[3],kernel_size=1),\n",
    "            nn.ReLU(),\n",
    "        )        \n",
    "        \n",
    "        \n",
    "    \n",
    "    \n",
    "    def forward(self,X):\n",
    "        X0=self.net_0(X)\n",
    "        X1=self.net_1(X)\n",
    "        X2=self.net_2(X)\n",
    "        X3=self.net_3(X)\n",
    "        return torch.cat((X0,X1,X2,X3),dim=1)\n",
    "        \n"
   ]
  },
  {
   "cell_type": "markdown",
   "id": "b40c747a",
   "metadata": {},
   "source": [
    "![](./imgs/inception-full.svg)"
   ]
  },
  {
   "cell_type": "code",
   "execution_count": 6,
   "id": "0ded2df0",
   "metadata": {},
   "outputs": [],
   "source": [
    "class GoogleNet(nn.Module):\n",
    "    def __init__(self):\n",
    "        super().__init__()\n",
    "        net_0=nn.Sequential(\n",
    "            nn.Conv2d(1, 64, kernel_size=7, stride=2, padding=3),\n",
    "            nn.ReLU(),\n",
    "            nn.MaxPool2d(kernel_size=3, stride=2, padding=1)\n",
    "        )\n",
    "        net_1=nn.Sequential(\n",
    "            \n",
    "            nn.Conv2d(64, 64, kernel_size=1),\n",
    "            nn.ReLU(),\n",
    "            nn.Conv2d(64, 192, kernel_size=3, padding=1),\n",
    "            nn.ReLU(),\n",
    "            nn.MaxPool2d(kernel_size=3, stride=2, padding=1)\n",
    "        )\n",
    "        \n",
    "        net_2=nn.Sequential(\n",
    "            Inception(192,[64, (96, 128), (16, 32), 32]),\n",
    "            Inception(256,[128, (128, 192), (32, 96), 64]),\n",
    "            nn.MaxPool2d(kernel_size=3, stride=2, padding=1)\n",
    "        )\n",
    "        \n",
    "        net_3=nn.Sequential(\n",
    "            Inception(480, [192, (96, 208), (16, 48), 64]),\n",
    "            Inception(512, [160, (112, 224), (24, 64), 64]),\n",
    "            Inception(512, [128, (128, 256), (24, 64), 64]),\n",
    "            Inception(512, [112, (144, 288), (32, 64), 64]),\n",
    "            Inception(528, [256, (160, 320), (32, 128), 128]),\n",
    "            nn.MaxPool2d(kernel_size=3, stride=2, padding=1)\n",
    "        )\n",
    "        \n",
    "        net_4=nn.Sequential(\n",
    "            Inception(832,[ 256, (160, 320), (32, 128), 128]),\n",
    "            Inception(832,[ 384, (192, 384), (48, 128), 128]),\n",
    "            nn.AdaptiveAvgPool2d((1,1)),\n",
    "            nn.Flatten()\n",
    "        )\n",
    "        self.net=nn.Sequential(\n",
    "            net_0,net_1,net_2,net_3,net_4,nn.Linear(1024, 10)\n",
    "        )\n",
    "        \n",
    "    def forward(self,X):\n",
    "        return self.net(X)\n",
    "\n",
    "    \n",
    "\n",
    "\n",
    "\n"
   ]
  },
  {
   "cell_type": "code",
   "execution_count": 7,
   "id": "835895ae",
   "metadata": {},
   "outputs": [],
   "source": [
    "X = torch.rand(size=(1, 1, 96, 96))"
   ]
  },
  {
   "cell_type": "code",
   "execution_count": 8,
   "id": "2fa2a523",
   "metadata": {},
   "outputs": [
    {
     "name": "stdout",
     "output_type": "stream",
     "text": [
      "torch.Size([1, 192, 12, 12])\n",
      "torch.Size([1, 64, 12, 12]) torch.Size([1, 128, 12, 12]) torch.Size([1, 32, 12, 12]) torch.Size([1, 32, 12, 12])\n",
      "torch.Size([1, 256, 12, 12])\n",
      "torch.Size([1, 128, 12, 12]) torch.Size([1, 192, 12, 12]) torch.Size([1, 96, 12, 12]) torch.Size([1, 64, 12, 12])\n",
      "torch.Size([1, 480, 6, 6])\n",
      "torch.Size([1, 192, 6, 6]) torch.Size([1, 208, 6, 6]) torch.Size([1, 48, 6, 6]) torch.Size([1, 64, 6, 6])\n",
      "torch.Size([1, 512, 6, 6])\n",
      "torch.Size([1, 160, 6, 6]) torch.Size([1, 224, 6, 6]) torch.Size([1, 64, 6, 6]) torch.Size([1, 64, 6, 6])\n",
      "torch.Size([1, 512, 6, 6])\n",
      "torch.Size([1, 128, 6, 6]) torch.Size([1, 256, 6, 6]) torch.Size([1, 64, 6, 6]) torch.Size([1, 64, 6, 6])\n",
      "torch.Size([1, 512, 6, 6])\n",
      "torch.Size([1, 112, 6, 6]) torch.Size([1, 288, 6, 6]) torch.Size([1, 64, 6, 6]) torch.Size([1, 64, 6, 6])\n",
      "torch.Size([1, 528, 6, 6])\n",
      "torch.Size([1, 256, 6, 6]) torch.Size([1, 320, 6, 6]) torch.Size([1, 128, 6, 6]) torch.Size([1, 128, 6, 6])\n",
      "torch.Size([1, 832, 3, 3])\n",
      "torch.Size([1, 256, 3, 3]) torch.Size([1, 320, 3, 3]) torch.Size([1, 128, 3, 3]) torch.Size([1, 128, 3, 3])\n",
      "torch.Size([1, 832, 3, 3])\n",
      "torch.Size([1, 384, 3, 3]) torch.Size([1, 384, 3, 3]) torch.Size([1, 128, 3, 3]) torch.Size([1, 128, 3, 3])\n"
     ]
    },
    {
     "data": {
      "text/plain": [
       "tensor([[-0.0393,  0.0269,  0.0090,  0.0067, -0.0145,  0.0080, -0.0187, -0.0218,\n",
       "          0.0191, -0.0196]], grad_fn=<AddmmBackward0>)"
      ]
     },
     "execution_count": 8,
     "metadata": {},
     "output_type": "execute_result"
    }
   ],
   "source": [
    "net=GoogleNet()\n",
    "net(X)"
   ]
  },
  {
   "cell_type": "code",
   "execution_count": null,
   "id": "8c8d5582",
   "metadata": {},
   "outputs": [],
   "source": []
  },
  {
   "cell_type": "code",
   "execution_count": null,
   "id": "170690fb",
   "metadata": {},
   "outputs": [],
   "source": []
  }
 ],
 "metadata": {
  "kernelspec": {
   "display_name": "Python 3 (ipykernel)",
   "language": "python",
   "name": "python3"
  },
  "language_info": {
   "codemirror_mode": {
    "name": "ipython",
    "version": 3
   },
   "file_extension": ".py",
   "mimetype": "text/x-python",
   "name": "python",
   "nbconvert_exporter": "python",
   "pygments_lexer": "ipython3",
   "version": "3.9.12"
  }
 },
 "nbformat": 4,
 "nbformat_minor": 5
}
