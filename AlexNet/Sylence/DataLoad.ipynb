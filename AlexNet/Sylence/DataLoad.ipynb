{
 "cells": [
  {
   "cell_type": "code",
   "execution_count": 1,
   "id": "e721a8a3",
   "metadata": {},
   "outputs": [],
   "source": [
    "import torch\n",
    "import numpy\n",
    "from torch.utils.data import Dataset\n",
    "import torchvision.transforms as transforms\n",
    "trans_to_227 = transforms.Compose([\n",
    "    transforms.ToPILImage(),\n",
    "    transforms.Resize([227,227]),\n",
    "    transforms.ToTensor\n",
    "])\n",
    "\n",
    "def Trans_to_227(imgs, trans_to_227):\n",
    "    return [trans_to_227(img) for img in imgs]\n",
    "\n",
    "class Mnistdata(Dataset):\n",
    "    def __init__(self, image_path, label_path):\n",
    "        _, self.image_num, self.weight, self.height, self.images, self.labels = self.get_mnist(image_path, label_path)\n",
    "        \n",
    "    def __len__(self):\n",
    "        return len(self.labels)\n",
    "        \n",
    "    def __getitem__(self, index):\n",
    "        return self.images[index], self.labels[index]\n",
    "        \n",
    "    def get_mnist(self, image_path, label_path):\n",
    "        with open(image_path, 'rb') as f:\n",
    "            s=f.read()\n",
    "        magic_num = int(s[:4].hex(),16)\n",
    "        image_num = int(s[4:8].hex(),16)\n",
    "        weight = int(s[8:12].hex(),16)\n",
    "        height = int(s[12:16].hex(),16)\n",
    "        images = [dot for dot in s[16:]]\n",
    "        images = numpy.array(images).reshape(-1, 1, 28, 28)\n",
    "        images = torch.tensor(images, dtype=torch.float)\n",
    "        images = Trans_to_227(images)\n",
    "            \n",
    "        with open(label_path, 'rb') as f:\n",
    "            s=f.read()\n",
    "        labels = [id for id in s[8:]]\n",
    "        labels = numpy.asarray(labels)\n",
    "        labels = torch.tensor(labels, dtype=torch.int64)\n",
    "        \n",
    "        return image_num, weight, height, images, labels\n",
    "            "
   ]
  },
  {
   "cell_type": "code",
   "execution_count": null,
   "id": "635c0003",
   "metadata": {
    "scrolled": true
   },
   "outputs": [],
   "source": []
  },
  {
   "cell_type": "code",
   "execution_count": null,
   "id": "5644c524",
   "metadata": {},
   "outputs": [],
   "source": []
  }
 ],
 "metadata": {
  "kernelspec": {
   "display_name": "Python 3 (ipykernel)",
   "language": "python",
   "name": "python3"
  },
  "language_info": {
   "codemirror_mode": {
    "name": "ipython",
    "version": 3
   },
   "file_extension": ".py",
   "mimetype": "text/x-python",
   "name": "python",
   "nbconvert_exporter": "python",
   "pygments_lexer": "ipython3",
   "version": "3.8.13"
  }
 },
 "nbformat": 4,
 "nbformat_minor": 5
}
