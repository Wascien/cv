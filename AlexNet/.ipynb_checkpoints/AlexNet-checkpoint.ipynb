{
 "cells": [
  {
   "cell_type": "markdown",
   "id": "19192088",
   "metadata": {},
   "source": [
    "# 这是我们在网上找到的数据格式\n",
    "\n",
    "\n",
    "![图片失效](./img/FashionMnist_read.png)"
   ]
  },
  {
   "cell_type": "code",
   "execution_count": 1,
   "id": "625fc1cd",
   "metadata": {},
   "outputs": [],
   "source": [
    "import torch \n",
    "from torch.utils.data import Dataset\n",
    "train_img_path='train-images-idx3-ubyte'\n",
    "train_label_path='train-labels-idx1-ubyte'\n",
    "test_img_path='t10k-images-idx3-ubyte'\n",
    "test_label_path='t10k-labels-idx1-ubyte'\n",
    "class FashionMnist(Dataset):\n",
    "    \n",
    "    def __init__(self,img_path,label_path):\n",
    "        super().__init__()\n",
    "        self.load_data_from_path(img_path,label_path)\n",
    "    \n",
    "    \n",
    "    def __getitem__(self,index):\n",
    "        return self.imgs[index],self.labels[index]\n",
    "    \n",
    "    def __len__(self):\n",
    "        return self.img_num\n",
    "    \n",
    "    def load_data_from_path(self,img_path,label_path):\n",
    "        with open(img_path,'rb') as f:\n",
    "            s=f.read()\n",
    "        \n",
    "        self.img_num=int(s[4:8].hex(),16)\n",
    "        self.imgs=torch.FloatTensor(list(iter(s[16:])))\n",
    "        #print(self.img_num,self.imgs)\n",
    "        self.imgs=torch.reshape(self.imgs,(-1,1,28,28))\n",
    "        #print(self.imgs.shape)\n",
    "        with open(label_path,'rb') as f:\n",
    "            s=f.read()\n",
    "        self.labels=torch.tensor(list(iter(s[8:])))\n",
    "        #print(self.labels.shape)\n",
    "        \n",
    "        "
   ]
  },
  {
   "cell_type": "code",
   "execution_count": 2,
   "id": "d3d31ae4",
   "metadata": {},
   "outputs": [],
   "source": [
    "train_data=FashionMnist(train_img_path,train_label_path)\n",
    "test_data=FashionMnist(test_img_path,test_label_path)"
   ]
  },
  {
   "cell_type": "code",
   "execution_count": 3,
   "id": "a8cdef7f",
   "metadata": {},
   "outputs": [
    {
     "data": {
      "text/plain": [
       "60000"
      ]
     },
     "execution_count": 3,
     "metadata": {},
     "output_type": "execute_result"
    }
   ],
   "source": [
    "len(train_data)"
   ]
  },
  {
   "cell_type": "code",
   "execution_count": 4,
   "id": "81a46f56",
   "metadata": {},
   "outputs": [],
   "source": [
    "from torch import nn\n",
    "class AlexNet(nn.Module):\n",
    "    \n",
    "    def __init__(self):\n",
    "        super().__init__()\n",
    "        self.net=nn.Sequential(\n",
    "            nn.Conv2d(1,96,kernel_size=11,stride=4),\n",
    "            nn.ReLU(),\n",
    "            nn.MaxPool2d(kernel_size=3,stride=2),\n",
    "            nn.Conv2d(96,256,padding=2,kernel_size=5),\n",
    "            nn.ReLU(),\n",
    "            nn.MaxPool2d(kernel_size=3,stride=2),\n",
    "            nn.Conv2d(256,384,kernel_size=3,padding=1),\n",
    "            nn.ReLU(),\n",
    "            nn.Conv2d(384,384,kernel_size=3,padding=1),\n",
    "            nn.ReLU(),\n",
    "            nn.Conv2d(384,256,kernel_size=3,padding=1),\n",
    "            nn.ReLU(), \n",
    "            nn.MaxPool2d(kernel_size=3,stride=2),\n",
    "            nn.Flatten(),\n",
    "            nn.Linear(9216,4096),nn.ReLU(),\n",
    "            nn.Dropout(p=0.5),\n",
    "            nn.Linear(4096,1000),nn.ReLU(),\n",
    "            nn.Dropout(p=0.5),\n",
    "            nn.Linear(1000,10)\n",
    "        )\n",
    "        \n",
    "        \n",
    "    def forward(self,X):\n",
    "        return self.net(X)\n",
    "\n",
    "  \n",
    " "
   ]
  },
  {
   "cell_type": "code",
   "execution_count": 5,
   "id": "260875a4",
   "metadata": {},
   "outputs": [],
   "source": [
    "from torchvision import transforms\n",
    "aug=transforms.Compose([\n",
    "    transforms.ToPILImage(),\n",
    "    transforms.Resize([227,227]),\n",
    "    transforms.ToTensor()]\n",
    ")\n",
    "def convert_to_227(img,aug):\n",
    "    return aug(img).numpy().tolist()"
   ]
  },
  {
   "cell_type": "code",
   "execution_count": 6,
   "id": "558aca06",
   "metadata": {},
   "outputs": [],
   "source": [
    "def collate_fn(batch):\n",
    "    inputs,labels=[],[]\n",
    "    for X,y in batch:\n",
    "        inputs.append(convert_to_227(X,aug))\n",
    "        labels.append(y)\n",
    "        \n",
    "    return torch.Tensor(inputs),torch.tensor(labels)\n",
    "    \n",
    "    "
   ]
  },
  {
   "cell_type": "code",
   "execution_count": 7,
   "id": "e8f658e6",
   "metadata": {},
   "outputs": [],
   "source": [
    "from torch.utils.data import DataLoader\n",
    "\n",
    "train_iter=DataLoader(train_data,batch_size=64,shuffle=True,collate_fn=collate_fn)\n",
    "test_iter=DataLoader(test_data,batch_size=64,shuffle=True,collate_fn=collate_fn)\n",
    "def precise(test_iter,net,device):\n",
    "    total=0\n",
    "    correct=0\n",
    "    for X,y in test_iter:\n",
    "        total+=len(X)\n",
    "        X,y=X.to(device),y.to(device)\n",
    "        y_hat=net(X)\n",
    "        out_put=torch.argmax(y_hat,dim=-1)\n",
    "        ans=(out_put==y)\n",
    "        correct+=ans.sum().item()\n",
    "        \n",
    "    print(correct)\n",
    "    print(f\"accuracy :{correct/total*100:>3f}% \")"
   ]
  },
  {
   "cell_type": "code",
   "execution_count": 8,
   "id": "78bf60a7",
   "metadata": {},
   "outputs": [],
   "source": [
    "\n",
    "def train(data_iter,entroy_iter,net,optimizer,lr_scheduler,loss_fn,epochs,device,epoch_data_num):\n",
    "    matrix_x,matrix_loss,entroy_loss,entroy_x=[0],[0],[],[]\n",
    "    total_loss=0\n",
    "    batchs=len(data_iter)\n",
    "    for epoch in range(epochs):\n",
    "        now_num=0\n",
    "        for X,y in data_iter:\n",
    " \n",
    "            now_num+=len(X)\n",
    "    \n",
    "            net.train()\n",
    "            \n",
    "            X,y=X.to(device),y.to(device)\n",
    "            optimizer.zero_grad()\n",
    "            y_hat=net(X)\n",
    "            loss=loss_fn(y_hat,y)\n",
    "            loss.sum().backward()\n",
    "\n",
    "            optimizer.step()\n",
    "\n",
    "            total_loss+=loss.item()\n",
    "\n",
    "            matrix_x.append(matrix_x[-1]+1)\n",
    "            matrix_loss.append(total_loss/(epoch*epoch_data_num+now_num))\n",
    "            \n",
    "            print(f\"loss: {matrix_loss[-1]:>7f} now {matrix_x[-1]}/{batchs*epochs}\",end='\\r')\n",
    "            \n",
    "        \n",
    "        lr_scheduler.step()\n",
    "        with torch.no_grad():\n",
    "            c_total_loss=0\n",
    "            test_data_num=0\n",
    "            for X,y in entroy_iter: \n",
    "                net.eval()\n",
    "                test_data_num+=len(X)\n",
    "                X,y=X.to(device),y.to(device)\n",
    "                y_hat=net(X)\n",
    "                loss=loss_fn(y_hat,y)\n",
    "                \n",
    "                c_total_loss+=loss.item()\n",
    "            \n",
    "            print(test_data_num)\n",
    "            entroy_loss.append(c_total_loss/test_data_num)\n",
    "            entroy_x.append((epoch+1)*batchs)\n",
    "        print(f\"cross entroy loss:{entroy_loss[-1]} now {epoch+1}/{epochs}\")\n",
    "        \n",
    "        precise(test_iter,net,device)\n",
    "\n",
    "        torch.save(net.state_dict(), f\"epoch{epoch+1}.bin\")\n",
    "    \n",
    "    return net,matrix_x,matrix_loss,entroy_x,entroy_loss"
   ]
  },
  {
   "cell_type": "code",
   "execution_count": 9,
   "id": "7b923b14",
   "metadata": {
    "scrolled": true
   },
   "outputs": [
    {
     "name": "stdout",
     "output_type": "stream",
     "text": [
      "10000 0.009535 now 938/9380\n",
      "cross entroy loss:0.006006035079061985 now 1/10\n",
      "8531\n",
      "accuracy :85.310000% \n",
      "10000 0.007378 now 1876/9380\n",
      "cross entroy loss:0.0050327443912625315 now 2/10\n",
      "8833\n",
      "accuracy :88.330000% \n",
      "10000 0.006382 now 2814/9380\n",
      "cross entroy loss:0.004966027658432722 now 3/10\n",
      "8821\n",
      "accuracy :88.210000% \n",
      "10000 0.005774 now 3752/9380\n",
      "cross entroy loss:0.0042857642345130445 now 4/10\n",
      "8973\n",
      "accuracy :89.730000% \n",
      "10000 0.005342 now 4690/9380\n",
      "cross entroy loss:0.004276627845317125 now 5/10\n",
      "8971\n",
      "accuracy :89.710000% \n",
      "10000 0.005014 now 5628/9380\n",
      "cross entroy loss:0.004034735450148583 now 6/10\n",
      "9058\n",
      "accuracy :90.580000% \n",
      "10000 0.004752 now 6566/9380\n",
      "cross entroy loss:0.003960508153215051 now 7/10\n",
      "9074\n",
      "accuracy :90.740000% \n",
      "10000 0.004533 now 7504/9380\n",
      "cross entroy loss:0.003946920274198055 now 8/10\n",
      "9080\n",
      "accuracy :90.800000% \n",
      "10000 0.004346 now 8442/9380\n",
      "cross entroy loss:0.0038574967220425605 now 9/10\n",
      "9126\n",
      "accuracy :91.260000% \n",
      "10000 0.004182 now 9380/9380\n",
      "cross entroy loss:0.003847892790660262 now 10/10\n",
      "9118\n",
      "accuracy :91.180000% \n"
     ]
    }
   ],
   "source": [
    "from torch.optim import Adam\n",
    "from torch.optim.lr_scheduler import LambdaLR\n",
    "device='cuda' if torch.cuda.is_available() else 'cpu'\n",
    "net=AlexNet().to(device)\n",
    "optimizer=Adam(net.parameters(),lr=0.0001)\n",
    "lr_scheduler=LambdaLR(optimizer, lr_lambda=lambda epoch: 1/(epoch+1))\n",
    "loss_fn=nn.CrossEntropyLoss()\n",
    "_,matrix_x,matrix_loss,entroy_x,entroy_loss=train(train_iter,test_iter,net,optimizer,lr_scheduler,loss_fn,10,device,len(train_data))\n",
    "\n"
   ]
  },
  {
   "cell_type": "code",
   "execution_count": null,
   "id": "8b96944b",
   "metadata": {},
   "outputs": [],
   "source": [
    "\n",
    "    "
   ]
  },
  {
   "cell_type": "code",
   "execution_count": 11,
   "id": "3f3b4165",
   "metadata": {},
   "outputs": [
    {
     "data": {
      "image/png": "[encoded data removed]",
      "text/plain": [
       "<Figure size 432x288 with 1 Axes>"
      ]
     },
     "metadata": {
      "needs_background": "light"
     },
     "output_type": "display_data"
    }
   ],
   "source": [
    "from matplotlib import pyplot as plt\n",
    "%matplotlib inline\n",
    "def plot(matrix_x,matrix_loss,entroy_x,entroy_loss):\n",
    "    plt.plot(matrix_x,matrix_loss,color='b')\n",
    "    plt.plot(entroy_x,entroy_loss,color='r')\n",
    "    plt.xlabel('batchs')\n",
    "    plt.ylabel('loss')\n",
    "    \n",
    "    \n",
    "plot(matrix_x,matrix_loss,entroy_x,entroy_loss)"
   ]
  },
  {
   "cell_type": "code",
   "execution_count": null,
   "id": "c5ab7075",
   "metadata": {},
   "outputs": [],
   "source": []
  }
 ],
 "metadata": {
  "kernelspec": {
   "display_name": "Python 3 (ipykernel)",
   "language": "python",
   "name": "python3"
  },
  "language_info": {
   "codemirror_mode": {
    "name": "ipython",
    "version": 3
   },
   "file_extension": ".py",
   "mimetype": "text/x-python",
   "name": "python",
   "nbconvert_exporter": "python",
   "pygments_lexer": "ipython3",
   "version": "3.9.12"
  }
 },
 "nbformat": 4,
 "nbformat_minor": 5
}
